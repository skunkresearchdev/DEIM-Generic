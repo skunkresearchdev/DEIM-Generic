{
 "cells": [
  {
   "cell_type": "code",
   "execution_count": null,
   "id": "d90dc2f1",
   "metadata": {},
   "outputs": [],
   "source": [
    "!pip install markitdown[all]"
   ]
  },
  {
   "cell_type": "code",
   "execution_count": null,
   "id": "be8acaf0",
   "metadata": {},
   "outputs": [
    {
     "name": "stdout",
     "output_type": "stream",
     "text": [
      "Found 56 files to process.\n",
      "Starting multiprocessing pool with chunk size 10...\n",
      "Processing examples/08 - 26August22 Overdue and Lookahead_BR_3_3 copy 5.xlsx...\n",
      "Processing examples/60_ Design Documentation_2_2 copy 6.xlsx...\n",
      "Processing examples/08 - 26August22 Overdue and Lookahead_BR_3_3 copy 4.xlsx...\n",
      "Processing examples/1096-01-OHS-RA-01 - CRAW_3_3_3 copy 4.xlsx...Processing examples/1096-01-OHS-RA-01 - CRAW_2_2_2 copy 2.xlsx...\n",
      "\n",
      "Processing examples/08 - 26August22 Overdue and Lookahead_BR_2_2_2 copy 2.xlsx...\n",
      "Successfully converted examples/60_ Design Documentation_2_2 copy 6.xlsx to examples/60_ Design Documentation_2_2 copy 6.md\n"
     ]
    },
    {
     "name": "stderr",
     "output_type": "stream",
     "text": [
      "/home/hidara/miniconda3/envs/deim/lib/python3.11/site-packages/openpyxl/worksheet/_reader.py:329: UserWarning: Data Validation extension is not supported and will be removed\n",
      "  warn(msg)\n",
      "/home/hidara/miniconda3/envs/deim/lib/python3.11/site-packages/openpyxl/worksheet/_reader.py:329: UserWarning: Data Validation extension is not supported and will be removed\n",
      "  warn(msg)\n"
     ]
    },
    {
     "name": "stdout",
     "output_type": "stream",
     "text": [
      "Processing examples/60_ Design Documentation_2_2 copy.xlsx...\n"
     ]
    },
    {
     "name": "stderr",
     "output_type": "stream",
     "text": [
      "/home/hidara/miniconda3/envs/deim/lib/python3.11/site-packages/openpyxl/worksheet/_reader.py:329: UserWarning: Data Validation extension is not supported and will be removed\n",
      "  warn(msg)\n",
      "/home/hidara/miniconda3/envs/deim/lib/python3.11/site-packages/openpyxl/worksheet/_reader.py:329: UserWarning: Data Validation extension is not supported and will be removed\n",
      "  warn(msg)\n",
      "/home/hidara/miniconda3/envs/deim/lib/python3.11/site-packages/openpyxl/worksheet/_reader.py:329: UserWarning: Data Validation extension is not supported and will be removed\n",
      "  warn(msg)\n",
      "/home/hidara/miniconda3/envs/deim/lib/python3.11/site-packages/openpyxl/worksheet/_reader.py:329: UserWarning: Data Validation extension is not supported and will be removed\n",
      "  warn(msg)\n",
      "/home/hidara/miniconda3/envs/deim/lib/python3.11/site-packages/openpyxl/worksheet/_reader.py:329: UserWarning: Data Validation extension is not supported and will be removed\n",
      "  warn(msg)\n",
      "/home/hidara/miniconda3/envs/deim/lib/python3.11/site-packages/openpyxl/worksheet/_reader.py:329: UserWarning: Data Validation extension is not supported and will be removed\n",
      "  warn(msg)\n",
      "/home/hidara/miniconda3/envs/deim/lib/python3.11/site-packages/openpyxl/worksheet/_reader.py:329: UserWarning: Data Validation extension is not supported and will be removed\n",
      "  warn(msg)\n",
      "/home/hidara/miniconda3/envs/deim/lib/python3.11/site-packages/openpyxl/worksheet/_reader.py:329: UserWarning: Data Validation extension is not supported and will be removed\n",
      "  warn(msg)\n",
      "/home/hidara/miniconda3/envs/deim/lib/python3.11/site-packages/openpyxl/worksheet/_reader.py:329: UserWarning: Data Validation extension is not supported and will be removed\n",
      "  warn(msg)\n"
     ]
    },
    {
     "name": "stdout",
     "output_type": "stream",
     "text": [
      "Successfully converted examples/60_ Design Documentation_2_2 copy.xlsx to examples/60_ Design Documentation_2_2 copy.md\n"
     ]
    },
    {
     "name": "stderr",
     "output_type": "stream",
     "text": [
      "/home/hidara/miniconda3/envs/deim/lib/python3.11/site-packages/openpyxl/worksheet/_reader.py:329: UserWarning: Data Validation extension is not supported and will be removed\n",
      "  warn(msg)\n"
     ]
    },
    {
     "name": "stdout",
     "output_type": "stream",
     "text": [
      "Processing examples/08 - 26August22 Overdue and Lookahead_BR_3_3 copy 3.xlsx...\n",
      "Successfully converted examples/1096-01-OHS-RA-01 - CRAW_3_3_3 copy 4.xlsx to examples/1096-01-OHS-RA-01 - CRAW_3_3_3 copy 4.md\n",
      "Processing examples/30_ Design Review 07092022_2_2 copy 4.xlsx...\n"
     ]
    },
    {
     "name": "stderr",
     "output_type": "stream",
     "text": [
      "/home/hidara/miniconda3/envs/deim/lib/python3.11/site-packages/openpyxl/worksheet/_reader.py:329: UserWarning: Data Validation extension is not supported and will be removed\n",
      "  warn(msg)\n"
     ]
    },
    {
     "name": "stdout",
     "output_type": "stream",
     "text": [
      "Successfully converted examples/30_ Design Review 07092022_2_2 copy 4.xlsx to examples/30_ Design Review 07092022_2_2 copy 4.md\n",
      "Processing examples/60_ Design Documentation_2_2 copy 3.xlsx...\n",
      "Successfully converted examples/60_ Design Documentation_2_2 copy 3.xlsx to examples/60_ Design Documentation_2_2 copy 3.md\n",
      "Successfully converted examples/1096-01-OHS-RA-01 - CRAW_2_2_2 copy 2.xlsx to examples/1096-01-OHS-RA-01 - CRAW_2_2_2 copy 2.md\n",
      "Processing examples/60_ Design Documentation_2_2 copy 4.xlsx...\n",
      "Processing examples/60_ Design Documentation_2_2.xlsx...\n",
      "Successfully converted examples/60_ Design Documentation_2_2.xlsx to examples/60_ Design Documentation_2_2.mdSuccessfully converted examples/60_ Design Documentation_2_2 copy 4.xlsx to examples/60_ Design Documentation_2_2 copy 4.md\n",
      "\n",
      "Processing examples/1096-01-OHS-RA-01 - CRAW_3_3_3.xlsx...\n",
      "Processing examples/1096-01-OHS-RA-01 - CRAW_3_3_3 copy 3.xlsx...\n"
     ]
    },
    {
     "name": "stderr",
     "output_type": "stream",
     "text": [
      "/home/hidara/miniconda3/envs/deim/lib/python3.11/site-packages/openpyxl/worksheet/_reader.py:329: UserWarning: Data Validation extension is not supported and will be removed\n",
      "  warn(msg)\n",
      "/home/hidara/miniconda3/envs/deim/lib/python3.11/site-packages/openpyxl/worksheet/_reader.py:329: UserWarning: Data Validation extension is not supported and will be removed\n",
      "  warn(msg)\n",
      "/home/hidara/miniconda3/envs/deim/lib/python3.11/site-packages/openpyxl/worksheet/_reader.py:329: UserWarning: Data Validation extension is not supported and will be removed\n",
      "  warn(msg)\n",
      "/home/hidara/miniconda3/envs/deim/lib/python3.11/site-packages/openpyxl/worksheet/_reader.py:329: UserWarning: Data Validation extension is not supported and will be removed\n",
      "  warn(msg)\n",
      "/home/hidara/miniconda3/envs/deim/lib/python3.11/site-packages/openpyxl/worksheet/_reader.py:329: UserWarning: Data Validation extension is not supported and will be removed\n",
      "  warn(msg)\n",
      "/home/hidara/miniconda3/envs/deim/lib/python3.11/site-packages/openpyxl/worksheet/_reader.py:329: UserWarning: Data Validation extension is not supported and will be removed\n",
      "  warn(msg)\n",
      "/home/hidara/miniconda3/envs/deim/lib/python3.11/site-packages/openpyxl/worksheet/_reader.py:329: UserWarning: Data Validation extension is not supported and will be removed\n",
      "  warn(msg)\n",
      "/home/hidara/miniconda3/envs/deim/lib/python3.11/site-packages/openpyxl/worksheet/_reader.py:329: UserWarning: Data Validation extension is not supported and will be removed\n",
      "  warn(msg)\n",
      "/home/hidara/miniconda3/envs/deim/lib/python3.11/site-packages/openpyxl/worksheet/_reader.py:329: UserWarning: Data Validation extension is not supported and will be removed\n",
      "  warn(msg)\n",
      "/home/hidara/miniconda3/envs/deim/lib/python3.11/site-packages/openpyxl/worksheet/_reader.py:329: UserWarning: Data Validation extension is not supported and will be removed\n",
      "  warn(msg)\n",
      "/home/hidara/miniconda3/envs/deim/lib/python3.11/site-packages/openpyxl/worksheet/_reader.py:329: UserWarning: Data Validation extension is not supported and will be removed\n",
      "  warn(msg)\n",
      "/home/hidara/miniconda3/envs/deim/lib/python3.11/site-packages/openpyxl/worksheet/_reader.py:329: UserWarning: Data Validation extension is not supported and will be removed\n",
      "  warn(msg)\n"
     ]
    },
    {
     "name": "stdout",
     "output_type": "stream",
     "text": [
      "Successfully converted examples/1096-01-OHS-RA-01 - CRAW_3_3_3.xlsx to examples/1096-01-OHS-RA-01 - CRAW_3_3_3.md\n",
      "Processing examples/1096-01-OHS-RA-01 - CRAW_2_2_2 copy.xlsx...\n",
      "Successfully converted examples/1096-01-OHS-RA-01 - CRAW_3_3_3 copy 3.xlsx to examples/1096-01-OHS-RA-01 - CRAW_3_3_3 copy 3.md\n",
      "Processing examples/08 - 26August22 Overdue and Lookahead_BR_2_2_2 copy 5.xlsx...\n"
     ]
    },
    {
     "name": "stderr",
     "output_type": "stream",
     "text": [
      "/home/hidara/miniconda3/envs/deim/lib/python3.11/site-packages/openpyxl/worksheet/_reader.py:329: UserWarning: Data Validation extension is not supported and will be removed\n",
      "  warn(msg)\n",
      "/home/hidara/miniconda3/envs/deim/lib/python3.11/site-packages/openpyxl/worksheet/_reader.py:329: UserWarning: Data Validation extension is not supported and will be removed\n",
      "  warn(msg)\n",
      "/home/hidara/miniconda3/envs/deim/lib/python3.11/site-packages/openpyxl/worksheet/_reader.py:329: UserWarning: Data Validation extension is not supported and will be removed\n",
      "  warn(msg)\n",
      "/home/hidara/miniconda3/envs/deim/lib/python3.11/site-packages/openpyxl/worksheet/_reader.py:329: UserWarning: Data Validation extension is not supported and will be removed\n",
      "  warn(msg)\n",
      "/home/hidara/miniconda3/envs/deim/lib/python3.11/site-packages/openpyxl/worksheet/_reader.py:329: UserWarning: Data Validation extension is not supported and will be removed\n",
      "  warn(msg)\n",
      "/home/hidara/miniconda3/envs/deim/lib/python3.11/site-packages/openpyxl/worksheet/_reader.py:329: UserWarning: Data Validation extension is not supported and will be removed\n",
      "  warn(msg)\n"
     ]
    },
    {
     "name": "stdout",
     "output_type": "stream",
     "text": [
      "Successfully converted examples/1096-01-OHS-RA-01 - CRAW_2_2_2 copy.xlsx to examples/1096-01-OHS-RA-01 - CRAW_2_2_2 copy.md\n",
      "Processing examples/1096-01-MFG-QLT-ITC-CIV-0035_Fence Gate Installation_Final_A_2_2 copy 2.xlsx...\n",
      "Successfully converted examples/1096-01-MFG-QLT-ITC-CIV-0035_Fence Gate Installation_Final_A_2_2 copy 2.xlsx to examples/1096-01-MFG-QLT-ITC-CIV-0035_Fence Gate Installation_Final_A_2_2 copy 2.md\n",
      "Processing examples/60_ Design Documentation_2_2 copy 5.xlsx...\n",
      "Successfully converted examples/60_ Design Documentation_2_2 copy 5.xlsx to examples/60_ Design Documentation_2_2 copy 5.md\n",
      "Processing examples/1. SEPD Monford DoR Draft_2_2 copy.xlsx...\n",
      "Successfully converted examples/1. SEPD Monford DoR Draft_2_2 copy.xlsx to examples/1. SEPD Monford DoR Draft_2_2 copy.md\n",
      "Processing examples/08 - 26August22 Overdue and Lookahead_BR_2_2_2.xlsx...\n",
      "Successfully converted examples/08 - 26August22 Overdue and Lookahead_BR_3_3 copy 4.xlsx to examples/08 - 26August22 Overdue and Lookahead_BR_3_3 copy 4.md\n",
      "Processing examples/08 - 26August22 Overdue and Lookahead_BR_2_2_2 copy 6.xlsx...\n",
      "Successfully converted examples/08 - 26August22 Overdue and Lookahead_BR_2_2_2 copy 2.xlsx to examples/08 - 26August22 Overdue and Lookahead_BR_2_2_2 copy 2.md\n",
      "Processing examples/1096-01-OHS-RA-01 - CRAW_2_2_2 copy 6.xlsx...\n",
      "Successfully converted examples/08 - 26August22 Overdue and Lookahead_BR_3_3 copy 5.xlsx to examples/08 - 26August22 Overdue and Lookahead_BR_3_3 copy 5.md\n",
      "Processing examples/30_ Design Review 07092022_2_2 copy.xlsx...\n"
     ]
    },
    {
     "name": "stderr",
     "output_type": "stream",
     "text": [
      "/home/hidara/miniconda3/envs/deim/lib/python3.11/site-packages/openpyxl/worksheet/_reader.py:329: UserWarning: Data Validation extension is not supported and will be removed\n",
      "  warn(msg)\n",
      "/home/hidara/miniconda3/envs/deim/lib/python3.11/site-packages/openpyxl/worksheet/_reader.py:329: UserWarning: Data Validation extension is not supported and will be removed\n",
      "  warn(msg)\n",
      "/home/hidara/miniconda3/envs/deim/lib/python3.11/site-packages/openpyxl/worksheet/_reader.py:329: UserWarning: Data Validation extension is not supported and will be removed\n",
      "  warn(msg)\n",
      "/home/hidara/miniconda3/envs/deim/lib/python3.11/site-packages/openpyxl/worksheet/_reader.py:329: UserWarning: Data Validation extension is not supported and will be removed\n",
      "  warn(msg)\n",
      "/home/hidara/miniconda3/envs/deim/lib/python3.11/site-packages/openpyxl/worksheet/_reader.py:329: UserWarning: Data Validation extension is not supported and will be removed\n",
      "  warn(msg)\n",
      "/home/hidara/miniconda3/envs/deim/lib/python3.11/site-packages/openpyxl/worksheet/_reader.py:329: UserWarning: Data Validation extension is not supported and will be removed\n",
      "  warn(msg)\n",
      "/home/hidara/miniconda3/envs/deim/lib/python3.11/site-packages/openpyxl/worksheet/_reader.py:329: UserWarning: Data Validation extension is not supported and will be removed\n",
      "  warn(msg)\n"
     ]
    },
    {
     "name": "stdout",
     "output_type": "stream",
     "text": [
      "Successfully converted examples/30_ Design Review 07092022_2_2 copy.xlsx to examples/30_ Design Review 07092022_2_2 copy.md\n",
      "Successfully converted examples/08 - 26August22 Overdue and Lookahead_BR_3_3 copy 3.xlsx to examples/08 - 26August22 Overdue and Lookahead_BR_3_3 copy 3.md\n",
      "Processing examples/1096-01-MFG-QLT-ITC-CIV-0035_Fence Gate Installation_Final_A_2_2 copy 4.xlsx...Processing examples/1096-01-OHS-RA-01 - CRAW_3_3_3 copy 2.xlsx...\n",
      "\n"
     ]
    },
    {
     "name": "stderr",
     "output_type": "stream",
     "text": [
      "/home/hidara/miniconda3/envs/deim/lib/python3.11/site-packages/openpyxl/worksheet/_reader.py:329: UserWarning: Data Validation extension is not supported and will be removed\n",
      "  warn(msg)\n"
     ]
    },
    {
     "name": "stdout",
     "output_type": "stream",
     "text": [
      "Successfully converted examples/1096-01-MFG-QLT-ITC-CIV-0035_Fence Gate Installation_Final_A_2_2 copy 4.xlsx to examples/1096-01-MFG-QLT-ITC-CIV-0035_Fence Gate Installation_Final_A_2_2 copy 4.md\n"
     ]
    },
    {
     "name": "stderr",
     "output_type": "stream",
     "text": [
      "/home/hidara/miniconda3/envs/deim/lib/python3.11/site-packages/openpyxl/worksheet/_reader.py:329: UserWarning: Data Validation extension is not supported and will be removed\n",
      "  warn(msg)\n",
      "/home/hidara/miniconda3/envs/deim/lib/python3.11/site-packages/openpyxl/worksheet/_reader.py:329: UserWarning: Data Validation extension is not supported and will be removed\n",
      "  warn(msg)\n",
      "/home/hidara/miniconda3/envs/deim/lib/python3.11/site-packages/openpyxl/worksheet/_reader.py:329: UserWarning: Data Validation extension is not supported and will be removed\n",
      "  warn(msg)\n",
      "/home/hidara/miniconda3/envs/deim/lib/python3.11/site-packages/openpyxl/worksheet/_reader.py:329: UserWarning: Data Validation extension is not supported and will be removed\n",
      "  warn(msg)\n",
      "/home/hidara/miniconda3/envs/deim/lib/python3.11/site-packages/openpyxl/worksheet/_reader.py:329: UserWarning: Data Validation extension is not supported and will be removed\n",
      "  warn(msg)\n"
     ]
    },
    {
     "name": "stdout",
     "output_type": "stream",
     "text": [
      "Processing examples/08 - 26August22 Overdue and Lookahead_BR_2_2_2 copy 4.xlsx...\n",
      "Successfully converted examples/1096-01-OHS-RA-01 - CRAW_2_2_2 copy 6.xlsx to examples/1096-01-OHS-RA-01 - CRAW_2_2_2 copy 6.md\n",
      "Processing examples/1096-01-MFG-QLT-ITC-CIV-0035_Fence Gate Installation_Final_A_2_2 copy 6.xlsx...\n",
      "Successfully converted examples/1096-01-MFG-QLT-ITC-CIV-0035_Fence Gate Installation_Final_A_2_2 copy 6.xlsx to examples/1096-01-MFG-QLT-ITC-CIV-0035_Fence Gate Installation_Final_A_2_2 copy 6.md\n",
      "Processing examples/30_ Design Review 07092022_2_2 copy 5.xlsx...\n"
     ]
    },
    {
     "name": "stderr",
     "output_type": "stream",
     "text": [
      "/home/hidara/miniconda3/envs/deim/lib/python3.11/site-packages/openpyxl/worksheet/_reader.py:329: UserWarning: Data Validation extension is not supported and will be removed\n",
      "  warn(msg)\n"
     ]
    },
    {
     "name": "stdout",
     "output_type": "stream",
     "text": [
      "Successfully converted examples/30_ Design Review 07092022_2_2 copy 5.xlsx to examples/30_ Design Review 07092022_2_2 copy 5.md\n",
      "Processing examples/60_ Design Documentation_2_2 copy 2.xlsx...\n",
      "Successfully converted examples/60_ Design Documentation_2_2 copy 2.xlsx to examples/60_ Design Documentation_2_2 copy 2.md\n",
      "Processing examples/1096-01-OHS-RA-01 - CRAW_2_2_2 copy 3.xlsx...\n",
      "Successfully converted examples/1096-01-OHS-RA-01 - CRAW_3_3_3 copy 2.xlsx to examples/1096-01-OHS-RA-01 - CRAW_3_3_3 copy 2.md\n",
      "Processing examples/08 - 26August22 Overdue and Lookahead_BR_2_2_2 copy 3.xlsx...\n"
     ]
    },
    {
     "name": "stderr",
     "output_type": "stream",
     "text": [
      "/home/hidara/miniconda3/envs/deim/lib/python3.11/site-packages/openpyxl/worksheet/_reader.py:329: UserWarning: Data Validation extension is not supported and will be removed\n",
      "  warn(msg)\n",
      "/home/hidara/miniconda3/envs/deim/lib/python3.11/site-packages/openpyxl/worksheet/_reader.py:329: UserWarning: Data Validation extension is not supported and will be removed\n",
      "  warn(msg)\n",
      "/home/hidara/miniconda3/envs/deim/lib/python3.11/site-packages/openpyxl/worksheet/_reader.py:329: UserWarning: Data Validation extension is not supported and will be removed\n",
      "  warn(msg)\n",
      "/home/hidara/miniconda3/envs/deim/lib/python3.11/site-packages/openpyxl/worksheet/_reader.py:329: UserWarning: Data Validation extension is not supported and will be removed\n",
      "  warn(msg)\n",
      "/home/hidara/miniconda3/envs/deim/lib/python3.11/site-packages/openpyxl/worksheet/_reader.py:329: UserWarning: Data Validation extension is not supported and will be removed\n",
      "  warn(msg)\n",
      "/home/hidara/miniconda3/envs/deim/lib/python3.11/site-packages/openpyxl/worksheet/_reader.py:329: UserWarning: Data Validation extension is not supported and will be removed\n",
      "  warn(msg)\n"
     ]
    },
    {
     "name": "stdout",
     "output_type": "stream",
     "text": [
      "Successfully converted examples/1096-01-OHS-RA-01 - CRAW_2_2_2 copy 3.xlsx to examples/1096-01-OHS-RA-01 - CRAW_2_2_2 copy 3.md\n",
      "Successfully converted examples/08 - 26August22 Overdue and Lookahead_BR_2_2_2 copy 5.xlsx to examples/08 - 26August22 Overdue and Lookahead_BR_2_2_2 copy 5.md\n",
      "Processing examples/1096-01-OHS-RA-01 - CRAW_3_3_3 copy 5.xlsx...\n"
     ]
    },
    {
     "name": "stderr",
     "output_type": "stream",
     "text": [
      "/home/hidara/miniconda3/envs/deim/lib/python3.11/site-packages/openpyxl/worksheet/_reader.py:329: UserWarning: Data Validation extension is not supported and will be removed\n",
      "  warn(msg)\n",
      "/home/hidara/miniconda3/envs/deim/lib/python3.11/site-packages/openpyxl/worksheet/_reader.py:329: UserWarning: Data Validation extension is not supported and will be removed\n",
      "  warn(msg)\n",
      "/home/hidara/miniconda3/envs/deim/lib/python3.11/site-packages/openpyxl/worksheet/_reader.py:329: UserWarning: Data Validation extension is not supported and will be removed\n",
      "  warn(msg)\n",
      "/home/hidara/miniconda3/envs/deim/lib/python3.11/site-packages/openpyxl/worksheet/_reader.py:329: UserWarning: Data Validation extension is not supported and will be removed\n",
      "  warn(msg)\n",
      "/home/hidara/miniconda3/envs/deim/lib/python3.11/site-packages/openpyxl/worksheet/_reader.py:329: UserWarning: Data Validation extension is not supported and will be removed\n",
      "  warn(msg)\n",
      "/home/hidara/miniconda3/envs/deim/lib/python3.11/site-packages/openpyxl/worksheet/_reader.py:329: UserWarning: Data Validation extension is not supported and will be removed\n",
      "  warn(msg)\n"
     ]
    },
    {
     "name": "stdout",
     "output_type": "stream",
     "text": [
      "Successfully converted examples/08 - 26August22 Overdue and Lookahead_BR_2_2_2.xlsx to examples/08 - 26August22 Overdue and Lookahead_BR_2_2_2.md\n",
      "Successfully converted examples/1096-01-OHS-RA-01 - CRAW_3_3_3 copy 5.xlsx to examples/1096-01-OHS-RA-01 - CRAW_3_3_3 copy 5.md\n",
      "Processing examples/1. SEPD Monford DoR Draft_2_2 copy 5.xlsx...\n",
      "Successfully converted examples/1. SEPD Monford DoR Draft_2_2 copy 5.xlsx to examples/1. SEPD Monford DoR Draft_2_2 copy 5.md\n",
      "Processing examples/1. SEPD Monford DoR Draft_2_2 copy 2.xlsx...\n",
      "Successfully converted examples/1. SEPD Monford DoR Draft_2_2 copy 2.xlsx to examples/1. SEPD Monford DoR Draft_2_2 copy 2.md\n",
      "Processing examples/1. SEPD Monford DoR Draft_2_2.xlsx...\n",
      "Successfully converted examples/1. SEPD Monford DoR Draft_2_2.xlsx to examples/1. SEPD Monford DoR Draft_2_2.md\n",
      "Processing examples/1096-01-MFG-QLT-ITC-CIV-0035_Fence Gate Installation_Final_A_2_2.xlsx...\n",
      "Successfully converted examples/1096-01-MFG-QLT-ITC-CIV-0035_Fence Gate Installation_Final_A_2_2.xlsx to examples/1096-01-MFG-QLT-ITC-CIV-0035_Fence Gate Installation_Final_A_2_2.md\n",
      "Processing examples/1. SEPD Monford DoR Draft_2_2 copy 4.xlsx...\n",
      "Successfully converted examples/1. SEPD Monford DoR Draft_2_2 copy 4.xlsx to examples/1. SEPD Monford DoR Draft_2_2 copy 4.md\n",
      "Successfully converted examples/08 - 26August22 Overdue and Lookahead_BR_2_2_2 copy 6.xlsx to examples/08 - 26August22 Overdue and Lookahead_BR_2_2_2 copy 6.md\n",
      "Processing examples/1096-01-OHS-RA-01 - CRAW_3_3_3 copy.xlsx...\n"
     ]
    },
    {
     "name": "stderr",
     "output_type": "stream",
     "text": [
      "/home/hidara/miniconda3/envs/deim/lib/python3.11/site-packages/openpyxl/worksheet/_reader.py:329: UserWarning: Data Validation extension is not supported and will be removed\n",
      "  warn(msg)\n",
      "/home/hidara/miniconda3/envs/deim/lib/python3.11/site-packages/openpyxl/worksheet/_reader.py:329: UserWarning: Data Validation extension is not supported and will be removed\n",
      "  warn(msg)\n",
      "/home/hidara/miniconda3/envs/deim/lib/python3.11/site-packages/openpyxl/worksheet/_reader.py:329: UserWarning: Data Validation extension is not supported and will be removed\n",
      "  warn(msg)\n",
      "/home/hidara/miniconda3/envs/deim/lib/python3.11/site-packages/openpyxl/worksheet/_reader.py:329: UserWarning: Data Validation extension is not supported and will be removed\n",
      "  warn(msg)\n",
      "/home/hidara/miniconda3/envs/deim/lib/python3.11/site-packages/openpyxl/worksheet/_reader.py:329: UserWarning: Data Validation extension is not supported and will be removed\n",
      "  warn(msg)\n",
      "/home/hidara/miniconda3/envs/deim/lib/python3.11/site-packages/openpyxl/worksheet/_reader.py:329: UserWarning: Data Validation extension is not supported and will be removed\n",
      "  warn(msg)\n"
     ]
    },
    {
     "name": "stdout",
     "output_type": "stream",
     "text": [
      "Successfully converted examples/08 - 26August22 Overdue and Lookahead_BR_2_2_2 copy 4.xlsx to examples/08 - 26August22 Overdue and Lookahead_BR_2_2_2 copy 4.md\n",
      "Processing examples/1096-01-OHS-RA-01 - CRAW_2_2_2.xlsx...\n",
      "Successfully converted examples/1096-01-OHS-RA-01 - CRAW_3_3_3 copy.xlsx to examples/1096-01-OHS-RA-01 - CRAW_3_3_3 copy.md\n",
      "Processing examples/1096-01-MFG-QLT-ITC-CIV-0035_Fence Gate Installation_Final_A_2_2 copy.xlsx...\n",
      "Successfully converted examples/1096-01-MFG-QLT-ITC-CIV-0035_Fence Gate Installation_Final_A_2_2 copy.xlsx to examples/1096-01-MFG-QLT-ITC-CIV-0035_Fence Gate Installation_Final_A_2_2 copy.md\n",
      "Processing examples/1096-01-OHS-RA-01 - CRAW_2_2_2 copy 5.xlsx...\n"
     ]
    },
    {
     "name": "stderr",
     "output_type": "stream",
     "text": [
      "/home/hidara/miniconda3/envs/deim/lib/python3.11/site-packages/openpyxl/worksheet/_reader.py:329: UserWarning: Data Validation extension is not supported and will be removed\n",
      "  warn(msg)\n",
      "/home/hidara/miniconda3/envs/deim/lib/python3.11/site-packages/openpyxl/worksheet/_reader.py:329: UserWarning: Data Validation extension is not supported and will be removed\n",
      "  warn(msg)\n",
      "/home/hidara/miniconda3/envs/deim/lib/python3.11/site-packages/openpyxl/worksheet/_reader.py:329: UserWarning: Data Validation extension is not supported and will be removed\n",
      "  warn(msg)\n",
      "/home/hidara/miniconda3/envs/deim/lib/python3.11/site-packages/openpyxl/worksheet/_reader.py:329: UserWarning: Data Validation extension is not supported and will be removed\n",
      "  warn(msg)\n",
      "/home/hidara/miniconda3/envs/deim/lib/python3.11/site-packages/openpyxl/worksheet/_reader.py:329: UserWarning: Data Validation extension is not supported and will be removed\n",
      "  warn(msg)\n",
      "/home/hidara/miniconda3/envs/deim/lib/python3.11/site-packages/openpyxl/worksheet/_reader.py:329: UserWarning: Data Validation extension is not supported and will be removed\n",
      "  warn(msg)\n"
     ]
    },
    {
     "name": "stdout",
     "output_type": "stream",
     "text": [
      "Successfully converted examples/08 - 26August22 Overdue and Lookahead_BR_2_2_2 copy 3.xlsx to examples/08 - 26August22 Overdue and Lookahead_BR_2_2_2 copy 3.md\n"
     ]
    },
    {
     "name": "stderr",
     "output_type": "stream",
     "text": [
      "/home/hidara/miniconda3/envs/deim/lib/python3.11/site-packages/openpyxl/worksheet/_reader.py:329: UserWarning: Data Validation extension is not supported and will be removed\n",
      "  warn(msg)\n",
      "/home/hidara/miniconda3/envs/deim/lib/python3.11/site-packages/openpyxl/worksheet/_reader.py:329: UserWarning: Data Validation extension is not supported and will be removed\n",
      "  warn(msg)\n",
      "/home/hidara/miniconda3/envs/deim/lib/python3.11/site-packages/openpyxl/worksheet/_reader.py:329: UserWarning: Data Validation extension is not supported and will be removed\n",
      "  warn(msg)\n",
      "/home/hidara/miniconda3/envs/deim/lib/python3.11/site-packages/openpyxl/worksheet/_reader.py:329: UserWarning: Data Validation extension is not supported and will be removed\n",
      "  warn(msg)\n",
      "/home/hidara/miniconda3/envs/deim/lib/python3.11/site-packages/openpyxl/worksheet/_reader.py:329: UserWarning: Data Validation extension is not supported and will be removed\n",
      "  warn(msg)\n",
      "/home/hidara/miniconda3/envs/deim/lib/python3.11/site-packages/openpyxl/worksheet/_reader.py:329: UserWarning: Data Validation extension is not supported and will be removed\n",
      "  warn(msg)\n"
     ]
    },
    {
     "name": "stdout",
     "output_type": "stream",
     "text": [
      "Processing examples/30_ Design Review 07092022_2_2 copy 2.xlsx...\n"
     ]
    },
    {
     "name": "stderr",
     "output_type": "stream",
     "text": [
      "/home/hidara/miniconda3/envs/deim/lib/python3.11/site-packages/openpyxl/worksheet/_reader.py:329: UserWarning: Data Validation extension is not supported and will be removed\n",
      "  warn(msg)\n"
     ]
    },
    {
     "name": "stdout",
     "output_type": "stream",
     "text": [
      "Successfully converted examples/30_ Design Review 07092022_2_2 copy 2.xlsx to examples/30_ Design Review 07092022_2_2 copy 2.md\n",
      "Processing examples/1096-01-OHS-RA-01 - CRAW_2_2_2 copy 4.xlsx...\n"
     ]
    },
    {
     "name": "stderr",
     "output_type": "stream",
     "text": [
      "/home/hidara/miniconda3/envs/deim/lib/python3.11/site-packages/openpyxl/worksheet/_reader.py:329: UserWarning: Data Validation extension is not supported and will be removed\n",
      "  warn(msg)\n",
      "/home/hidara/miniconda3/envs/deim/lib/python3.11/site-packages/openpyxl/worksheet/_reader.py:329: UserWarning: Data Validation extension is not supported and will be removed\n",
      "  warn(msg)\n",
      "/home/hidara/miniconda3/envs/deim/lib/python3.11/site-packages/openpyxl/worksheet/_reader.py:329: UserWarning: Data Validation extension is not supported and will be removed\n",
      "  warn(msg)\n",
      "/home/hidara/miniconda3/envs/deim/lib/python3.11/site-packages/openpyxl/worksheet/_reader.py:329: UserWarning: Data Validation extension is not supported and will be removed\n",
      "  warn(msg)\n",
      "/home/hidara/miniconda3/envs/deim/lib/python3.11/site-packages/openpyxl/worksheet/_reader.py:329: UserWarning: Data Validation extension is not supported and will be removed\n",
      "  warn(msg)\n",
      "/home/hidara/miniconda3/envs/deim/lib/python3.11/site-packages/openpyxl/worksheet/_reader.py:329: UserWarning: Data Validation extension is not supported and will be removed\n",
      "  warn(msg)\n"
     ]
    },
    {
     "name": "stdout",
     "output_type": "stream",
     "text": [
      "Successfully converted examples/1096-01-OHS-RA-01 - CRAW_2_2_2.xlsx to examples/1096-01-OHS-RA-01 - CRAW_2_2_2.md\n",
      "Processing examples/1096-01-MFG-QLT-ITC-CIV-0035_Fence Gate Installation_Final_A_2_2 copy 3.xlsx...\n",
      "Successfully converted examples/1096-01-MFG-QLT-ITC-CIV-0035_Fence Gate Installation_Final_A_2_2 copy 3.xlsx to examples/1096-01-MFG-QLT-ITC-CIV-0035_Fence Gate Installation_Final_A_2_2 copy 3.md\n",
      "Processing examples/1096-01-MFG-QLT-ITC-CIV-0035_Fence Gate Installation_Final_A_2_2 copy 5.xlsx...\n",
      "Successfully converted examples/1096-01-OHS-RA-01 - CRAW_2_2_2 copy 5.xlsx to examples/1096-01-OHS-RA-01 - CRAW_2_2_2 copy 5.md\n",
      "Processing examples/1096-01-OHS-RA-01 - CRAW_3_3_3 copy 6.xlsx...\n",
      "Successfully converted examples/1096-01-MFG-QLT-ITC-CIV-0035_Fence Gate Installation_Final_A_2_2 copy 5.xlsx to examples/1096-01-MFG-QLT-ITC-CIV-0035_Fence Gate Installation_Final_A_2_2 copy 5.md\n",
      "Processing examples/08 - 26August22 Overdue and Lookahead_BR_3_3 copy.xlsx...\n"
     ]
    },
    {
     "name": "stderr",
     "output_type": "stream",
     "text": [
      "/home/hidara/miniconda3/envs/deim/lib/python3.11/site-packages/openpyxl/worksheet/_reader.py:329: UserWarning: Data Validation extension is not supported and will be removed\n",
      "  warn(msg)\n",
      "/home/hidara/miniconda3/envs/deim/lib/python3.11/site-packages/openpyxl/worksheet/_reader.py:329: UserWarning: Data Validation extension is not supported and will be removed\n",
      "  warn(msg)\n",
      "/home/hidara/miniconda3/envs/deim/lib/python3.11/site-packages/openpyxl/worksheet/_reader.py:329: UserWarning: Data Validation extension is not supported and will be removed\n",
      "  warn(msg)\n",
      "/home/hidara/miniconda3/envs/deim/lib/python3.11/site-packages/openpyxl/worksheet/_reader.py:329: UserWarning: Data Validation extension is not supported and will be removed\n",
      "  warn(msg)\n",
      "/home/hidara/miniconda3/envs/deim/lib/python3.11/site-packages/openpyxl/worksheet/_reader.py:329: UserWarning: Data Validation extension is not supported and will be removed\n",
      "  warn(msg)\n",
      "/home/hidara/miniconda3/envs/deim/lib/python3.11/site-packages/openpyxl/worksheet/_reader.py:329: UserWarning: Data Validation extension is not supported and will be removed\n",
      "  warn(msg)\n"
     ]
    },
    {
     "name": "stdout",
     "output_type": "stream",
     "text": [
      "Successfully converted examples/1096-01-OHS-RA-01 - CRAW_2_2_2 copy 4.xlsx to examples/1096-01-OHS-RA-01 - CRAW_2_2_2 copy 4.md\n",
      "Processing examples/08 - 26August22 Overdue and Lookahead_BR_2_2_2 copy.xlsx...\n",
      "Successfully converted examples/1096-01-OHS-RA-01 - CRAW_3_3_3 copy 6.xlsx to examples/1096-01-OHS-RA-01 - CRAW_3_3_3 copy 6.md\n",
      "Processing examples/08 - 26August22 Overdue and Lookahead_BR_3_3 copy 2.xlsx...\n",
      "Successfully converted examples/08 - 26August22 Overdue and Lookahead_BR_3_3 copy.xlsx to examples/08 - 26August22 Overdue and Lookahead_BR_3_3 copy.md\n",
      "Processing examples/30_ Design Review 07092022_2_2.xlsx...\n"
     ]
    },
    {
     "name": "stderr",
     "output_type": "stream",
     "text": [
      "/home/hidara/miniconda3/envs/deim/lib/python3.11/site-packages/openpyxl/worksheet/_reader.py:329: UserWarning: Data Validation extension is not supported and will be removed\n",
      "  warn(msg)\n"
     ]
    },
    {
     "name": "stdout",
     "output_type": "stream",
     "text": [
      "Successfully converted examples/30_ Design Review 07092022_2_2.xlsx to examples/30_ Design Review 07092022_2_2.md\n",
      "Processing examples/30_ Design Review 07092022_2_2 copy 3.xlsx...\n"
     ]
    },
    {
     "name": "stderr",
     "output_type": "stream",
     "text": [
      "/home/hidara/miniconda3/envs/deim/lib/python3.11/site-packages/openpyxl/worksheet/_reader.py:329: UserWarning: Data Validation extension is not supported and will be removed\n",
      "  warn(msg)\n"
     ]
    },
    {
     "name": "stdout",
     "output_type": "stream",
     "text": [
      "Successfully converted examples/30_ Design Review 07092022_2_2 copy 3.xlsx to examples/30_ Design Review 07092022_2_2 copy 3.md\n",
      "Successfully converted examples/08 - 26August22 Overdue and Lookahead_BR_3_3 copy 2.xlsx to examples/08 - 26August22 Overdue and Lookahead_BR_3_3 copy 2.md\n",
      "Processing examples/1. SEPD Monford DoR Draft_2_2 copy 3.xlsx...\n",
      "Successfully converted examples/08 - 26August22 Overdue and Lookahead_BR_2_2_2 copy.xlsx to examples/08 - 26August22 Overdue and Lookahead_BR_2_2_2 copy.md\n",
      "Processing examples/08 - 26August22 Overdue and Lookahead_BR_3_3 copy 6.xlsx...\n",
      "Successfully converted examples/1. SEPD Monford DoR Draft_2_2 copy 3.xlsx to examples/1. SEPD Monford DoR Draft_2_2 copy 3.md\n",
      "Processing examples/30_ Design Review 07092022_2_2 copy 6.xlsx...\n"
     ]
    },
    {
     "name": "stderr",
     "output_type": "stream",
     "text": [
      "/home/hidara/miniconda3/envs/deim/lib/python3.11/site-packages/openpyxl/worksheet/_reader.py:329: UserWarning: Data Validation extension is not supported and will be removed\n",
      "  warn(msg)\n"
     ]
    },
    {
     "name": "stdout",
     "output_type": "stream",
     "text": [
      "Successfully converted examples/30_ Design Review 07092022_2_2 copy 6.xlsx to examples/30_ Design Review 07092022_2_2 copy 6.md\n",
      "Processing examples/1. SEPD Monford DoR Draft_2_2 copy 6.xlsx...\n",
      "Successfully converted examples/1. SEPD Monford DoR Draft_2_2 copy 6.xlsx to examples/1. SEPD Monford DoR Draft_2_2 copy 6.md\n",
      "Successfully converted examples/08 - 26August22 Overdue and Lookahead_BR_3_3 copy 6.xlsx to examples/08 - 26August22 Overdue and Lookahead_BR_3_3 copy 6.md\n",
      "Processing examples/08 - 26August22 Overdue and Lookahead_BR_3_3.xlsx...\n",
      "Successfully converted examples/08 - 26August22 Overdue and Lookahead_BR_3_3.xlsx to examples/08 - 26August22 Overdue and Lookahead_BR_3_3.md\n",
      "All files processed.\n"
     ]
    }
   ],
   "source": [
    "import multiprocessing\n",
    "from pathlib import Path\n",
    "from markitdown import MarkItDown\n",
    "import re # Import the regular expression module\n",
    "\n",
    "# Define a function to process a single file\n",
    "def convert_file(fn):\n",
    "    \"\"\"\n",
    "    Converts a single file using MarkItDown and writes the result.\n",
    "\n",
    "    Args:\n",
    "        fn (Path): The path to the input file.\n",
    "    \"\"\"\n",
    "    # Create a new MarkItDown instance in each process\n",
    "    # This is important because MarkItDown might not be thread-safe\n",
    "    # or process-safe if shared across processes.\n",
    "    md = MarkItDown(enable_plugins=True)\n",
    "\n",
    "    try:\n",
    "        # Ensure it's a file before attempting to convert\n",
    "        if fn.is_file():\n",
    "            print(f\"Processing {fn}...\")\n",
    "            result = md.convert(fn)\n",
    "            output_fn = fn.with_suffix(\".md\")\n",
    "            # Create parent directories if they don't exist\n",
    "            output_fn.parent.mkdir(parents=True, exist_ok=True)\n",
    "            output_fn.write_text(result.text_content, encoding='utf-8') # Specify encoding\n",
    "            print(f\"Successfully converted {fn} to {output_fn}\")\n",
    "        else:\n",
    "            print(f\"Skipping {fn} as it is not a file.\")\n",
    "\n",
    "    except Exception as e:\n",
    "        print(f\"Error processing {fn}: {e}\")\n",
    "        # In a real application, you might want to log this error\n",
    "        # or return an error indicator.\n",
    "\n",
    "# Main execution block\n",
    "if __name__ == \"__main__\":\n",
    "    # Define the root directory to search for files\n",
    "    root_dir = Path(\"examples\")\n",
    "\n",
    "    # Ensure the root directory exists\n",
    "    if not root_dir.exists():\n",
    "        print(f\"Error: Directory '{root_dir}' not found.\")\n",
    "        exit()\n",
    "\n",
    "    # Define the regex pattern to match files ending with .md (case-insensitive)\n",
    "    # We will use this pattern to EXCLUDE matching files.\n",
    "    md_pattern = re.compile(r'\\.md$', re.IGNORECASE)\n",
    "\n",
    "    # Find all files recursively in the root directory\n",
    "    # Filter out directories and ignore files that match the .md pattern using re\n",
    "    all_files = [\n",
    "        f for f in root_dir.rglob(\"*\")\n",
    "        if f.is_file() and not md_pattern.search(str(f)) # Use regex to exclude .md files\n",
    "    ]\n",
    "\n",
    "    if not all_files:\n",
    "        print(f\"No files found in '{root_dir}' that are not already .md files.\")\n",
    "        exit()\n",
    "\n",
    "    print(f\"Found {len(all_files)} files to process.\")\n",
    "\n",
    "    # Set the number of worker processes.\n",
    "    # Using None lets multiprocessing choose the optimal number (usually based on CPU cores).\n",
    "    # You can specify an integer, e.g., processes=4\n",
    "    num_processes = None\n",
    "\n",
    "    # Define the chunk size for imap_unordered.\n",
    "    # This means tasks are grouped into chunks of 10 before being sent to worker processes.\n",
    "    # This can improve performance by reducing inter-process communication overhead.\n",
    "    batch_size = 10\n",
    "\n",
    "    # Use multiprocessing.Pool to process files in parallel\n",
    "    # imap_unordered yields results as they are ready, which is suitable here\n",
    "    # as the order of processing doesn't matter.\n",
    "    print(f\"Starting multiprocessing pool with chunk size {batch_size}...\")\n",
    "    with multiprocessing.Pool(processes=num_processes) as pool:\n",
    "        # Map the convert_file function to the list of files\n",
    "        # chunksize=batch_size tells the pool to send files in batches of 10\n",
    "        # to the worker processes.\n",
    "        for _ in pool.imap_unordered(convert_file, all_files, chunksize=batch_size):\n",
    "            # We iterate through the results iterator to ensure all tasks are completed.\n",
    "            # Since convert_file doesn't return a value, we just pass.\n",
    "            pass\n",
    "\n",
    "    print(\"All files processed.\")\n"
   ]
  },
  {
   "cell_type": "code",
   "execution_count": null,
   "id": "c5ccceb6",
   "metadata": {},
   "outputs": [],
   "source": []
  }
 ],
 "metadata": {
  "kernelspec": {
   "display_name": "deim",
   "language": "python",
   "name": "python3"
  },
  "language_info": {
   "codemirror_mode": {
    "name": "ipython",
    "version": 3
   },
   "file_extension": ".py",
   "mimetype": "text/x-python",
   "name": "python",
   "nbconvert_exporter": "python",
   "pygments_lexer": "ipython3",
   "version": "3.11.9"
  }
 },
 "nbformat": 4,
 "nbformat_minor": 5
}
